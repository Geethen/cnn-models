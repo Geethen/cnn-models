{
 "cells": [
  {
   "cell_type": "markdown",
   "metadata": {},
   "source": [
    "# Earth Engine Data Viewer\n",
    "\n",
    "## Configure the Environment\n",
    "\n",
    "We begin by importing a number of useful libraries"
   ]
  },
  {
   "cell_type": "code",
   "execution_count": 1,
   "metadata": {},
   "outputs": [],
   "source": [
    "import ee"
   ]
  },
  {
   "cell_type": "markdown",
   "metadata": {},
   "source": [
    "Initialize the Earth Engine client."
   ]
  },
  {
   "cell_type": "code",
   "execution_count": 2,
   "metadata": {},
   "outputs": [],
   "source": [
    "ee.Initialize()"
   ]
  },
  {
   "cell_type": "markdown",
   "metadata": {},
   "source": [
    "## Sentinel 2  \n",
    "### Sentinel-2 MSI: MultiSpectral Instrument, Level-1C ([gee](https://developers.google.com/earth-engine/datasets/catalog/COPERNICUS_S2))\n",
    "**Dataset Availability**: 2015-06-23T00:00:00 - Present\n",
    "\n",
    "**Wavebands**\n",
    "\n",
    "|Band \t|Use \t\t|Wavelength (nm) |Resolution (m)|\n",
    "|-------|-----------|----------------|--------------|\n",
    "|B1 \t|Aerosols \t|443 \t|60|\n",
    "|B2 \t|Blue \t\t|490 \t|10|\n",
    "|B3 \t|Green \t\t|560 \t|10|\n",
    "|B4 \t|Red \t\t|665 \t|10|\n",
    "|B6 \t|Red Edge 2 |740 \t|20|\n",
    "|B8 \t|NIR        |835 \t|10|\n",
    "|B8a \t|Red Edge 4 |865 \t|20|\n",
    "|B9 \t|Water vapor|940 \t|60|\n",
    "|B10 \t|Cirrus \t|1375 \t|60|\n",
    "|B11 \t|SWIR 1 \t|1610 \t|20|\n",
    "|B12 \t|SWIR 2 \t|2190 \t|20|\n",
    "|QA60   |ESA Cloud  | n/a   |60|"
   ]
  },
  {
   "cell_type": "code",
   "execution_count": 3,
   "metadata": {},
   "outputs": [],
   "source": [
    "# Central position of (AOI)\n",
    "point = [-120.7224, 37.3872]\n",
    "# Start and stop of time series\n",
    "startDate = ee.Date('2016-01-01')\n",
    "stopDate  = ee.Date('2016-12-31')\n",
    "# Scale in meters\n",
    "scale = 10\n",
    "# Buffer\n",
    "buffer = 5000"
   ]
  },
  {
   "cell_type": "code",
   "execution_count": 4,
   "metadata": {},
   "outputs": [
    {
     "name": "stderr",
     "output_type": "stream",
     "text": [
      "Using TensorFlow backend.\n"
     ]
    }
   ],
   "source": [
    "from preprocess.ee_dataset_viewer import ee_dataset"
   ]
  },
  {
   "cell_type": "code",
   "execution_count": 5,
   "metadata": {},
   "outputs": [
    {
     "data": {
      "text/html": [
       "<img src=\"https://earthengine.googleapis.com/api/thumb?thumbid=114892099ad4f352321131efa0469187&token=de4c463debcb7e6871507225da324e08\"/>"
      ],
      "text/plain": [
       "<IPython.core.display.Image object>"
      ]
     },
     "metadata": {},
     "output_type": "display_data"
    },
    {
     "data": {
      "text/html": [
       "<img src=\"https://earthengine.googleapis.com/api/thumb?thumbid=2557aa693e7f9d7542caab3017f6803b&token=2c6b2d585df0fd689d27cde4c6baa740\"/>"
      ],
      "text/plain": [
       "<IPython.core.display.Image object>"
      ]
     },
     "metadata": {},
     "output_type": "display_data"
    },
    {
     "data": {
      "text/html": [
       "<img src=\"https://earthengine.googleapis.com/api/thumb?thumbid=a4a5bc0cfa4dfe66342da30927e71e1c&token=7b32049c0e16328ef522607c79d90728\"/>"
      ],
      "text/plain": [
       "<IPython.core.display.Image object>"
      ]
     },
     "metadata": {},
     "output_type": "display_data"
    },
    {
     "data": {
      "text/html": [
       "<img src=\"https://earthengine.googleapis.com/api/thumb?thumbid=a9721ecb112b1aa4dab3a0cfebef7479&token=88e4e69ec0430eeaca6f05601ca27d47\"/>"
      ],
      "text/plain": [
       "<IPython.core.display.Image object>"
      ]
     },
     "metadata": {},
     "output_type": "display_data"
    }
   ],
   "source": [
    "sentinel = ee_dataset(point = point, buffer = buffer, startDate = startDate, stopDate = stopDate, scale = scale, collection = 'Sentinel2')\n",
    "sentinel.display_image()"
   ]
  },
  {
   "cell_type": "markdown",
   "metadata": {},
   "source": [
    "## Landsat 7 \n",
    "### USGS Landsat 7 Surface Reflectance Tier 1 ([gee](https://developers.google.com/earth-engine/datasets/catalog/LANDSAT_LE07_C01_T1_SR))\n",
    "**Dataset Availability**: January 1999 - Present\n",
    "\n",
    "**Wavebands**\n",
    "\n",
    "|Name\t      |Resolution\t|Wavelength\t      |Description|\n",
    "|-------------|-------------|-----------------|-----------|\n",
    "|B1\t          |30 meters\t|0.45 - 0.52 µm\t  |Blue                                                  |\n",
    "|B2\t          |30 meters\t|0.52 - 0.60 µm\t  |Green                                                 |\n",
    "|B3\t          |30 meters\t|0.63 - 0.69 µm\t  |Red                                                   |\n",
    "|B4\t          |30 meters\t|0.77 - 0.90 µm\t  |Near infrared                                         |\n",
    "|B5\t          |30 meters\t|1.55 - 1.75 µm\t  |Shortwave infrared 1                                  |\n",
    "|B6\tKelvin\t  |30 meters\t|0.40 - 12.50 μm  |Band 6 brightness temperature                         |\n",
    "|B7\t\t \t  |30 meters\t|2.08 - 2.35 μm\t  |Band 7 (shortwave infrared 2) surface reflectance     |\n",
    "|sr_atmos_opacity|30 meters\t|null             |Atmospheric opacity                                   |\n",
    "|sr_cloud_qa  |30 meters\t|null             |Cloud quality attributes                              |"
   ]
  },
  {
   "cell_type": "code",
   "execution_count": 6,
   "metadata": {},
   "outputs": [],
   "source": [
    "# Start and stop of time series\n",
    "startDate = ee.Date('2016-01-01')\n",
    "stopDate  = ee.Date('2016-12-31')\n",
    "# Scale in meters\n",
    "scale = 30\n",
    "# Buffer\n",
    "buffer = 5000"
   ]
  },
  {
   "cell_type": "code",
   "execution_count": 7,
   "metadata": {},
   "outputs": [
    {
     "data": {
      "text/html": [
       "<img src=\"https://earthengine.googleapis.com/api/thumb?thumbid=2f5c2c54f00f0c44bb2aeb92703e4162&token=2a9a9696d536d7f1272b760fec1e79bf\"/>"
      ],
      "text/plain": [
       "<IPython.core.display.Image object>"
      ]
     },
     "metadata": {},
     "output_type": "display_data"
    },
    {
     "data": {
      "text/html": [
       "<img src=\"https://earthengine.googleapis.com/api/thumb?thumbid=a200bb02221cc4f8d888bfd5a28a2770&token=38e8baa7197645bfad169035a0f9e4f4\"/>"
      ],
      "text/plain": [
       "<IPython.core.display.Image object>"
      ]
     },
     "metadata": {},
     "output_type": "display_data"
    },
    {
     "data": {
      "text/html": [
       "<img src=\"https://earthengine.googleapis.com/api/thumb?thumbid=a00a4ba3cf438b10c04ece4d5118ba6e&token=4c36130ddef6f4c8d2e891f4a025ca92\"/>"
      ],
      "text/plain": [
       "<IPython.core.display.Image object>"
      ]
     },
     "metadata": {},
     "output_type": "display_data"
    },
    {
     "data": {
      "text/html": [
       "<img src=\"https://earthengine.googleapis.com/api/thumb?thumbid=f54c0aa6303cb09b6e00757c259b7492&token=0f957a29ee952151daa0c5dabe5af5ed\"/>"
      ],
      "text/plain": [
       "<IPython.core.display.Image object>"
      ]
     },
     "metadata": {},
     "output_type": "display_data"
    }
   ],
   "source": [
    "landsat = ee_dataset(point = point, buffer = buffer, startDate = startDate, stopDate = stopDate, scale = scale, collection = 'Landsat7')\n",
    "landsat.display_image()"
   ]
  },
  {
   "cell_type": "markdown",
   "metadata": {},
   "source": [
    "## Cropland Data Layers\n",
    "### USDA NASS Cropland Data Layers ([gee](https://developers.google.com/earth-engine/datasets/catalog/USDA_NASS_CDL))\n",
    "\n",
    "**Dataset Availability**: January 1997 - Present\n",
    "\n",
    "**Resolution**\n",
    "30 meters\n",
    "\n",
    "**Bands**\n",
    "\n",
    "|Name \t    |Min|Max |Description \t|\n",
    "|-----------|---|----|--------------|\n",
    "|cropland \t|1 \t|254 |Main crop-specific land cover classification.|\n",
    "|cultivated |1 \t|2   |Classification layer for identifying cultivated and non-cultivated land cover. Available from 2013 to 2017.|\n",
    "|confidence |0 \t|100 |Per-pixel predicted confidence of the given classification, with 0 being the least confident and 100 the most confident.|"
   ]
  },
  {
   "cell_type": "code",
   "execution_count": 8,
   "metadata": {},
   "outputs": [],
   "source": [
    "# Start and stop of time series\n",
    "startDate = ee.Date('2016-01-01')\n",
    "stopDate  = ee.Date('2016-12-31')\n",
    "# Scale in meters\n",
    "scale = 30\n",
    "# Buffer\n",
    "buffer = 5000"
   ]
  },
  {
   "cell_type": "code",
   "execution_count": 9,
   "metadata": {},
   "outputs": [
    {
     "data": {
      "text/html": [
       "<img src=\"https://earthengine.googleapis.com/api/thumb?thumbid=3bc9a7e6ec55fc91577bdfeb90218a6f&token=67fef858c4b37c7560e12bc76bf07401\"/>"
      ],
      "text/plain": [
       "<IPython.core.display.Image object>"
      ]
     },
     "metadata": {},
     "output_type": "display_data"
    }
   ],
   "source": [
    "cropland = ee_dataset(point = point, buffer = buffer, startDate = startDate, stopDate = stopDate, scale = scale, collection = 'CroplandDataLayers')\n",
    "cropland.display_image()"
   ]
  }
 ],
 "metadata": {
  "kernelspec": {
   "display_name": "Python 3",
   "language": "python",
   "name": "python3"
  },
  "language_info": {
   "codemirror_mode": {
    "name": "ipython",
    "version": 3
   },
   "file_extension": ".py",
   "mimetype": "text/x-python",
   "name": "python",
   "nbconvert_exporter": "python",
   "pygments_lexer": "ipython3",
   "version": "3.6.4"
  }
 },
 "nbformat": 4,
 "nbformat_minor": 2
}
